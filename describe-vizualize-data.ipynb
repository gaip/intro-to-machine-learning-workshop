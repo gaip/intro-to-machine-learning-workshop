{
 "cells": [
  {
   "cell_type": "markdown",
   "metadata": {},
   "source": [
    "# First Steps & Orientation"
   ]
  },
  {
   "cell_type": "markdown",
   "metadata": {},
   "source": [
    "## Acquire, Describe, and Visualize Data\n",
    "- The descriptive statistics tell a story of the data\n",
    "- Vizualizing the data tells another layer of the story"
   ]
  },
  {
   "cell_type": "code",
   "execution_count": 1,
   "metadata": {
    "_cell_guid": "b1076dfc-b9ad-4769-8c92-a6c4dae69d19",
    "_uuid": "8f2839f25d086af736a60e9eeb907d3b93b6e0e5"
   },
   "outputs": [],
   "source": [
    "# Run this block of code in order to import all of the libraries that we need for this module.\n",
    "# Shift + Enter on your keyboard or click the play button to run code cells. \n",
    "import numpy as np # linear algebra library\n",
    "import pandas as pd # data processing, CSV file I/O (e.g. pd.read_csv)\n",
    "\n",
    "# Vizualization libraries\n",
    "%matplotlib inline\n",
    "import matplotlib.pyplot as plt\n",
    "import seaborn as sns"
   ]
  },
  {
   "cell_type": "markdown",
   "metadata": {},
   "source": [
    "## Acquire the data:\n",
    "- In practice, our data isn't always 100% ready, clean, and accessible.\n",
    "- You're lucky if you get a spreadsheet or CSV ready to go!"
   ]
  },
  {
   "cell_type": "code",
   "execution_count": 2,
   "metadata": {
    "_cell_guid": "79c7e3d0-c299-4dcb-8224-4455121ee9b0",
    "_uuid": "d629ff2d2480ee46fbb7e2d37f6b5fab8052498a"
   },
   "outputs": [],
   "source": [
    "# Acquire the data \n",
    "quartet = pd.read_csv(\"./quartet.csv\", index_col=\"id\")"
   ]
  },
  {
   "cell_type": "code",
   "execution_count": 3,
   "metadata": {},
   "outputs": [
    {
     "name": "stdout",
     "output_type": "stream",
     "text": [
      "   dataset     x      y\n",
      "id                     \n",
      "0        I  10.0   8.04\n",
      "1        I   8.0   6.95\n",
      "2        I  13.0   7.58\n",
      "3        I   9.0   8.81\n",
      "4        I  11.0   8.33\n",
      "5        I  14.0   9.96\n",
      "6        I   6.0   7.24\n",
      "7        I   4.0   4.26\n",
      "8        I  12.0  10.84\n",
      "9        I   7.0   4.82\n",
      "10       I   5.0   5.68\n",
      "11      II  10.0   9.14\n",
      "12      II   8.0   8.14\n",
      "13      II  13.0   8.74\n",
      "14      II   9.0   8.77\n",
      "15      II  11.0   9.26\n",
      "16      II  14.0   8.10\n",
      "17      II   6.0   6.13\n",
      "18      II   4.0   3.10\n",
      "19      II  12.0   9.13\n",
      "20      II   7.0   7.26\n",
      "21      II   5.0   4.74\n",
      "22     III  10.0   7.46\n",
      "23     III   8.0   6.77\n",
      "24     III  13.0  12.74\n",
      "25     III   9.0   7.11\n",
      "26     III  11.0   7.81\n",
      "27     III  14.0   8.84\n",
      "28     III   6.0   6.08\n",
      "29     III   4.0   5.39\n",
      "30     III  12.0   8.15\n",
      "31     III   7.0   6.42\n",
      "32     III   5.0   5.73\n",
      "33      IV   8.0   6.58\n",
      "34      IV   8.0   5.76\n",
      "35      IV   8.0   7.71\n",
      "36      IV   8.0   8.84\n",
      "37      IV   8.0   8.47\n",
      "38      IV   8.0   7.04\n",
      "39      IV   8.0   5.25\n",
      "40      IV  19.0  12.50\n",
      "41      IV   8.0   5.56\n",
      "42      IV   8.0   7.91\n",
      "43      IV   8.0   6.89\n"
     ]
    }
   ],
   "source": [
    "# There are 4 groups that each have an X value and a Y value\n",
    "print(quartet)"
   ]
  },
  {
   "cell_type": "markdown",
   "metadata": {},
   "source": [
    "## Descriptive Statisitics\n",
    "- The `.describe()` method provides descriptive statistics for pandas dataframes\n",
    "- `mean` is the average of values\n",
    "- `std` is the \"standard deviation\" which represents the typical distance from the mean to an observation in the data. \n",
    "- Think of standard deviation as a measure of how much of a spread in the data there is\n",
    "- Min and Max are the minimum and maximum values"
   ]
  },
  {
   "cell_type": "code",
   "execution_count": 4,
   "metadata": {},
   "outputs": [
    {
     "data": {
      "text/html": [
       "<div>\n",
       "<style scoped>\n",
       "    .dataframe tbody tr th:only-of-type {\n",
       "        vertical-align: middle;\n",
       "    }\n",
       "\n",
       "    .dataframe tbody tr th {\n",
       "        vertical-align: top;\n",
       "    }\n",
       "\n",
       "    .dataframe thead th {\n",
       "        text-align: right;\n",
       "    }\n",
       "</style>\n",
       "<table border=\"1\" class=\"dataframe\">\n",
       "  <thead>\n",
       "    <tr style=\"text-align: right;\">\n",
       "      <th></th>\n",
       "      <th>x</th>\n",
       "      <th>y</th>\n",
       "    </tr>\n",
       "  </thead>\n",
       "  <tbody>\n",
       "    <tr>\n",
       "      <th>count</th>\n",
       "      <td>44.000000</td>\n",
       "      <td>44.000000</td>\n",
       "    </tr>\n",
       "    <tr>\n",
       "      <th>mean</th>\n",
       "      <td>9.000000</td>\n",
       "      <td>7.500682</td>\n",
       "    </tr>\n",
       "    <tr>\n",
       "      <th>std</th>\n",
       "      <td>3.198837</td>\n",
       "      <td>1.958925</td>\n",
       "    </tr>\n",
       "    <tr>\n",
       "      <th>min</th>\n",
       "      <td>4.000000</td>\n",
       "      <td>3.100000</td>\n",
       "    </tr>\n",
       "    <tr>\n",
       "      <th>25%</th>\n",
       "      <td>7.000000</td>\n",
       "      <td>6.117500</td>\n",
       "    </tr>\n",
       "    <tr>\n",
       "      <th>50%</th>\n",
       "      <td>8.000000</td>\n",
       "      <td>7.520000</td>\n",
       "    </tr>\n",
       "    <tr>\n",
       "      <th>75%</th>\n",
       "      <td>11.000000</td>\n",
       "      <td>8.747500</td>\n",
       "    </tr>\n",
       "    <tr>\n",
       "      <th>max</th>\n",
       "      <td>19.000000</td>\n",
       "      <td>12.740000</td>\n",
       "    </tr>\n",
       "  </tbody>\n",
       "</table>\n",
       "</div>"
      ],
      "text/plain": [
       "               x          y\n",
       "count  44.000000  44.000000\n",
       "mean    9.000000   7.500682\n",
       "std     3.198837   1.958925\n",
       "min     4.000000   3.100000\n",
       "25%     7.000000   6.117500\n",
       "50%     8.000000   7.520000\n",
       "75%    11.000000   8.747500\n",
       "max    19.000000  12.740000"
      ]
     },
     "execution_count": 4,
     "metadata": {},
     "output_type": "execute_result"
    }
   ],
   "source": [
    "# Let's look at the entire dataset\n",
    "quartet.describe()"
   ]
  },
  {
   "cell_type": "markdown",
   "metadata": {},
   "source": [
    "## Let's group by the \"dataset\" column to compare"
   ]
  },
  {
   "cell_type": "code",
   "execution_count": 5,
   "metadata": {},
   "outputs": [
    {
     "data": {
      "text/html": [
       "<div>\n",
       "<style scoped>\n",
       "    .dataframe tbody tr th:only-of-type {\n",
       "        vertical-align: middle;\n",
       "    }\n",
       "\n",
       "    .dataframe tbody tr th {\n",
       "        vertical-align: top;\n",
       "    }\n",
       "\n",
       "    .dataframe thead tr th {\n",
       "        text-align: left;\n",
       "    }\n",
       "\n",
       "    .dataframe thead tr:last-of-type th {\n",
       "        text-align: right;\n",
       "    }\n",
       "</style>\n",
       "<table border=\"1\" class=\"dataframe\">\n",
       "  <thead>\n",
       "    <tr>\n",
       "      <th></th>\n",
       "      <th colspan=\"2\" halign=\"left\">x</th>\n",
       "      <th colspan=\"2\" halign=\"left\">y</th>\n",
       "    </tr>\n",
       "    <tr>\n",
       "      <th></th>\n",
       "      <th>mean</th>\n",
       "      <th>std</th>\n",
       "      <th>mean</th>\n",
       "      <th>std</th>\n",
       "    </tr>\n",
       "    <tr>\n",
       "      <th>dataset</th>\n",
       "      <th></th>\n",
       "      <th></th>\n",
       "      <th></th>\n",
       "      <th></th>\n",
       "    </tr>\n",
       "  </thead>\n",
       "  <tbody>\n",
       "    <tr>\n",
       "      <th>I</th>\n",
       "      <td>9.0</td>\n",
       "      <td>3.316625</td>\n",
       "      <td>7.500909</td>\n",
       "      <td>2.031568</td>\n",
       "    </tr>\n",
       "    <tr>\n",
       "      <th>II</th>\n",
       "      <td>9.0</td>\n",
       "      <td>3.316625</td>\n",
       "      <td>7.500909</td>\n",
       "      <td>2.031657</td>\n",
       "    </tr>\n",
       "    <tr>\n",
       "      <th>III</th>\n",
       "      <td>9.0</td>\n",
       "      <td>3.316625</td>\n",
       "      <td>7.500000</td>\n",
       "      <td>2.030424</td>\n",
       "    </tr>\n",
       "    <tr>\n",
       "      <th>IV</th>\n",
       "      <td>9.0</td>\n",
       "      <td>3.316625</td>\n",
       "      <td>7.500909</td>\n",
       "      <td>2.030579</td>\n",
       "    </tr>\n",
       "  </tbody>\n",
       "</table>\n",
       "</div>"
      ],
      "text/plain": [
       "           x                   y          \n",
       "        mean       std      mean       std\n",
       "dataset                                   \n",
       "I        9.0  3.316625  7.500909  2.031568\n",
       "II       9.0  3.316625  7.500909  2.031657\n",
       "III      9.0  3.316625  7.500000  2.030424\n",
       "IV       9.0  3.316625  7.500909  2.030579"
      ]
     },
     "execution_count": 5,
     "metadata": {},
     "output_type": "execute_result"
    }
   ],
   "source": [
    "# Let's look at the average of each quartet and the standard deviation \n",
    "# Mean means the average value\n",
    "# Standard deviation represents the typical distance from the mean to an observation in the data. (How much of a spread in the data is there)\n",
    "quartet.groupby('dataset').agg([\"mean\", \"std\"])"
   ]
  },
  {
   "cell_type": "markdown",
   "metadata": {},
   "source": [
    "## Looking at the above measures of central tendency, what hypothesis do you have?\n",
    "- Looks like each dataset is pretty similar, right?\n",
    "- For x values that range between 4 to 19 and y values that range from 3 to 12, these seem pretty tight, right?"
   ]
  },
  {
   "cell_type": "markdown",
   "metadata": {},
   "source": [
    "## Let's make some linear regressions for each one of the datasets!\n",
    "- Fitting a linear regression means to fit a line to the data points.\n",
    "- This is often thought of as a trend line.\n",
    "- The chart below shows data points and the linear regression fit to those data points."
   ]
  },
  {
   "cell_type": "markdown",
   "metadata": {},
   "source": [
    "Example of fitting a line to the data points\n",
    "\n",
    "![linear regression fitting](https://cdn.glitch.com/c1e65908-81db-4c5b-8274-40cc385dfa54%2Ffitting_a_line_to_points.svg?v=1563290280842)"
   ]
  },
  {
   "cell_type": "code",
   "execution_count": 6,
   "metadata": {},
   "outputs": [],
   "source": [
    "# Modeling\n",
    "import statsmodels.api as sm\n",
    "\n",
    "from scipy.stats import pearsonr\n",
    "\n",
    "from sklearn.model_selection import train_test_split\n",
    "from sklearn.linear_model import LinearRegression\n",
    "from sklearn.metrics import mean_squared_error, r2_score, mean_absolute_error, median_absolute_error"
   ]
  },
  {
   "cell_type": "markdown",
   "metadata": {},
   "source": [
    "### Let's make a linear model for the 1st data set"
   ]
  },
  {
   "cell_type": "code",
   "execution_count": 7,
   "metadata": {},
   "outputs": [
    {
     "name": "stdout",
     "output_type": "stream",
     "text": [
      "Intercept is 3.0000909090909103\n",
      "Slope is 0.5000909090909091\n"
     ]
    }
   ],
   "source": [
    "first = quartet[quartet.dataset == \"I\"]\n",
    "X = first[[\"x\"]]\n",
    "y = first[[\"y\"]]\n",
    "\n",
    "first_linear_model = LinearRegression().fit(X, y)\n",
    "first_intercept = first_linear_model.intercept_[0]\n",
    "first_slope = first_linear_model.coef_[0][0]\n",
    "\n",
    "# y = mx + b\n",
    "print(\"Intercept is\", first_intercept)\n",
    "print(\"Slope is\", first_slope)"
   ]
  },
  {
   "cell_type": "markdown",
   "metadata": {},
   "source": [
    "And now let's model the 2nd, 3rd, and 4th datasets"
   ]
  },
  {
   "cell_type": "code",
   "execution_count": 8,
   "metadata": {},
   "outputs": [
    {
     "data": {
      "text/html": [
       "<div>\n",
       "<style scoped>\n",
       "    .dataframe tbody tr th:only-of-type {\n",
       "        vertical-align: middle;\n",
       "    }\n",
       "\n",
       "    .dataframe tbody tr th {\n",
       "        vertical-align: top;\n",
       "    }\n",
       "\n",
       "    .dataframe thead th {\n",
       "        text-align: right;\n",
       "    }\n",
       "</style>\n",
       "<table border=\"1\" class=\"dataframe\">\n",
       "  <thead>\n",
       "    <tr style=\"text-align: right;\">\n",
       "      <th></th>\n",
       "      <th>dataset</th>\n",
       "      <th>slope</th>\n",
       "      <th>intercept</th>\n",
       "    </tr>\n",
       "  </thead>\n",
       "  <tbody>\n",
       "    <tr>\n",
       "      <th>0</th>\n",
       "      <td>I</td>\n",
       "      <td>0.500091</td>\n",
       "      <td>3.000091</td>\n",
       "    </tr>\n",
       "    <tr>\n",
       "      <th>1</th>\n",
       "      <td>II</td>\n",
       "      <td>0.500000</td>\n",
       "      <td>3.000909</td>\n",
       "    </tr>\n",
       "    <tr>\n",
       "      <th>2</th>\n",
       "      <td>III</td>\n",
       "      <td>0.499727</td>\n",
       "      <td>3.002455</td>\n",
       "    </tr>\n",
       "    <tr>\n",
       "      <th>3</th>\n",
       "      <td>IV</td>\n",
       "      <td>0.499909</td>\n",
       "      <td>3.001727</td>\n",
       "    </tr>\n",
       "  </tbody>\n",
       "</table>\n",
       "</div>"
      ],
      "text/plain": [
       "  dataset     slope  intercept\n",
       "0       I  0.500091   3.000091\n",
       "1      II  0.500000   3.000909\n",
       "2     III  0.499727   3.002455\n",
       "3      IV  0.499909   3.001727"
      ]
     },
     "execution_count": 8,
     "metadata": {},
     "output_type": "execute_result"
    }
   ],
   "source": [
    "# Fit the regression for the second dataset\n",
    "second = quartet[quartet.dataset == \"II\"]\n",
    "X = second[[\"x\"]]\n",
    "y = second[[\"y\"]]\n",
    "\n",
    "second_linear_model = LinearRegression().fit(X, y)\n",
    "second_intercept = second_linear_model.intercept_[0]\n",
    "second_slope = second_linear_model.coef_[0][0]\n",
    "\n",
    "# Then make a new model for the third dataset\n",
    "third = quartet[quartet.dataset == \"III\"]\n",
    "X = third[[\"x\"]]\n",
    "y = third[[\"y\"]]\n",
    "\n",
    "third_linear_model = LinearRegression().fit(X, y)\n",
    "third_intercept = third_linear_model.intercept_[0]\n",
    "third_slope = third_linear_model.coef_[0][0]\n",
    "\n",
    "# And finally fit the regression for the 4th dataset\n",
    "forth = quartet[quartet.dataset == \"IV\"]\n",
    "X = forth[[\"x\"]]\n",
    "y = forth[[\"y\"]]\n",
    "\n",
    "forth_linear_model = LinearRegression().fit(X, y)\n",
    "forth_intercept = forth_linear_model.intercept_[0]\n",
    "forth_slope = forth_linear_model.coef_[0][0]\n",
    "\n",
    "\n",
    "first = {\n",
    "    \"dataset\": \"I\",\n",
    "    \"slope\": first_slope,\n",
    "    \"intercept\": first_intercept\n",
    "}\n",
    "second = {\n",
    "    \"dataset\": \"II\",\n",
    "    \"slope\": second_slope,\n",
    "    \"intercept\": second_intercept\n",
    "}\n",
    "\n",
    "third = {\n",
    "    \"dataset\": \"III\",\n",
    "    \"slope\": third_slope,\n",
    "    \"intercept\": third_intercept\n",
    "}\n",
    "\n",
    "forth = {\n",
    "    \"dataset\": \"IV\",\n",
    "    \"slope\": forth_slope,\n",
    "    \"intercept\": forth_intercept\n",
    "}\n",
    "\n",
    "output = pd.DataFrame([first, second, third, forth])\n",
    "output"
   ]
  },
  {
   "cell_type": "markdown",
   "metadata": {},
   "source": [
    "## Let's make \n",
    "\n"
   ]
  },
  {
   "cell_type": "code",
   "execution_count": 9,
   "metadata": {},
   "outputs": [],
   "source": [
    "def get_line(x, slope, intercept):\n",
    "    return x * slope + intercept"
   ]
  },
  {
   "cell_type": "markdown",
   "metadata": {},
   "source": [
    "### Now let's compare each linear model visually"
   ]
  },
  {
   "cell_type": "code",
   "execution_count": 10,
   "metadata": {},
   "outputs": [
    {
     "data": {
      "image/png": "[encoded data removed]",
      "text/plain": [
       "<Figure size 432x288 with 1 Axes>"
      ]
     },
     "metadata": {
      "needs_background": "light"
     },
     "output_type": "display_data"
    }
   ],
   "source": [
    "import matplotlib.pyplot as plt\n",
    "import numpy as np\n",
    "fig = plt.figure()\n",
    "x = np.linspace(-5,5,100)\n",
    "ax = fig.add_subplot(1, 1, 1)\n",
    "ax.spines['left'].set_position('center')\n",
    "ax.spines['bottom'].set_position('center')\n",
    "ax.spines['right'].set_color('none')\n",
    "ax.spines['top'].set_color('none')\n",
    "ax.xaxis.set_ticks_position('bottom')\n",
    "ax.yaxis.set_ticks_position('left')\n",
    "plt.plot(x, first_slope * x + first_intercept, '-r', label='first')\n",
    "plt.plot(x, second_slope * x + second_intercept,'-.g', label='second')\n",
    "plt.plot(x, third_slope * x + third_intercept,':b', label='third')\n",
    "plt.plot(x, forth_slope * x + forth_intercept,'--m', label='forth')\n",
    "plt.legend(loc='upper left')\n",
    "plt.show()"
   ]
  },
  {
   "cell_type": "markdown",
   "metadata": {},
   "source": [
    "### These 4 linear models for the 4 datasets are right on top of eachother and that makese sense given the slopes and intercepts"
   ]
  },
  {
   "cell_type": "code",
   "execution_count": 11,
   "metadata": {},
   "outputs": [
    {
     "name": "stdout",
     "output_type": "stream",
     "text": [
      "  dataset     slope  intercept\n",
      "0       I  0.500091   3.000091\n",
      "1      II  0.500000   3.000909\n",
      "2     III  0.499727   3.002455\n",
      "3      IV  0.499909   3.001727\n"
     ]
    }
   ],
   "source": [
    "print(output)"
   ]
  },
  {
   "cell_type": "markdown",
   "metadata": {},
   "source": []
  },
  {
   "cell_type": "markdown",
   "metadata": {},
   "source": [
    "# Let's See! "
   ]
  },
  {
   "cell_type": "markdown",
   "metadata": {},
   "source": [
    "## Vizualize the datapoints and the linear models for each dataset"
   ]
  },
  {
   "cell_type": "code",
   "execution_count": 15,
   "metadata": {},
   "outputs": [
    {
     "data": {
      "text/plain": [
       "<seaborn.axisgrid.FacetGrid at 0x1c20187710>"
      ]
     },
     "execution_count": 15,
     "metadata": {},
     "output_type": "execute_result"
    },
    {
     "data": {
      "image/png": "[encoded data removed]",
      "text/plain": [
       "<Figure size 1440x360 with 4 Axes>"
      ]
     },
     "metadata": {
      "needs_background": "light"
     },
     "output_type": "display_data"
    }
   ],
   "source": [
    "# Once you have compared the descriptive statistics of each of the datasets in the quartet,\n",
    "# Uncomment the next line and run this cell to visualize all 4 datasets next to eachother!\n",
    "# sns.relplot(x='x', y='y', col='dataset', data=quartet)"
   ]
  },
  {
   "cell_type": "code",
   "execution_count": 13,
   "metadata": {},
   "outputs": [
    {
     "data": {
      "image/png": "[encoded data removed]",
      "text/plain": [
       "<Figure size 979.2x576 with 4 Axes>"
      ]
     },
     "metadata": {
      "needs_background": "light"
     },
     "output_type": "display_data"
    }
   ],
   "source": [
    "# The datapoints and a linear model\n",
    "# Uncomment the next line and run this cell to visualize all 4 datasets with the linear model for each one.\n",
    "# sns.lmplot(x=\"x\", y=\"y\", col=\"dataset\", data=quartet, col_wrap=2, height=4,  aspect=1.7);"
   ]
  },
  {
   "cell_type": "markdown",
   "metadata": {},
   "source": [
    "## Lessons learned\n",
    "- Ask yourself, what did you gain from this exercise? "
   ]
  }
 ],
 "metadata": {
  "kernelspec": {
   "display_name": "Python 3",
   "language": "python",
   "name": "python3"
  },
  "language_info": {
   "codemirror_mode": {
    "name": "ipython",
    "version": 3
   },
   "file_extension": ".py",
   "mimetype": "text/x-python",
   "name": "python",
   "nbconvert_exporter": "python",
   "pygments_lexer": "ipython3",
   "version": "3.7.3"
  }
 },
 "nbformat": 4,
 "nbformat_minor": 1
}
