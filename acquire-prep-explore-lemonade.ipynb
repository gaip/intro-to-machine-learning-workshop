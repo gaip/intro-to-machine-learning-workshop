{
 "cells": [
  {
   "cell_type": "markdown",
   "metadata": {},
   "source": [
    "# Intro to Data Science Workshop\n",
    "## From Data Acquisition to a linear regression model to interpreting the model\n"
   ]
  },
  {
   "cell_type": "markdown",
   "metadata": {},
   "source": [
    "## Data Science Workflow\n",
    "1. **Plan** - What is the business case? What is your test hypothesis? What are you trying to prove or disprove?\n",
    "2. **Acquire** - Get access to the data or download the data\n",
    "3. **Prepare** - Data cleaning/wrangling, handle missing values. \n",
    "4. **Explore** - Explore, visualize, and deep dive on what stories the data contains. What data is promising to model? \n",
    "5. Model - Create a machine learning or statistical model for future data\n",
    "6. Deliver/Present - Intepret the model and how it works, deliver key takeaways to stakeholders\n",
    "\n",
    "This notebook will touch on the first 4 components of this pipeline, at a high level. "
   ]
  },
  {
   "cell_type": "code",
   "execution_count": null,
   "metadata": {
    "_cell_guid": "b1076dfc-b9ad-4769-8c92-a6c4dae69d19",
    "_uuid": "8f2839f25d086af736a60e9eeb907d3b93b6e0e5"
   },
   "outputs": [],
   "source": [
    "import numpy as np # linear algebra library\n",
    "import pandas as pd # data processing, CSV file I/O (e.g. pd.read_csv)\n",
    "\n",
    "# Import our visualization libraries\n",
    "%matplotlib inline\n",
    "import matplotlib.pyplot as plt\n",
    "import seaborn as sns\n",
    "\n",
    "# Import scipy's statistics ttest for independence\n",
    "from scipy.stats import ttest_ind\n",
    "import scipy.stats as stats\n",
    "\n",
    "# Import our machine learning models from sklearn\n",
    "from sklearn.model_selection import train_test_split\n",
    "from sklearn.preprocessing import MinMaxScaler\n",
    "from scipy.stats import pearsonr\n",
    "\n",
    "# ignore warning\n",
    "import warnings\n",
    "warnings.filterwarnings(\"ignore\")"
   ]
  },
  {
   "cell_type": "markdown",
   "metadata": {},
   "source": [
    "# Example Data Science Workflow\n",
    "- Congratulations! You've been hired as a Data Scientist for Limonada Beverage Company™\n",
    "- The CEO wants to know what we can do to increase revenue.\n",
    "- You're given a spreadsheet of a year's worth of sales data.\n",
    "- Get after it! The team expects your report and suggestions by next week!"
   ]
  },
  {
   "cell_type": "markdown",
   "metadata": {},
   "source": [
    "## Plan\n",
    "- We're going to be starting with a CSV file (spreadsheet) of lemonade sales. \n",
    "- What actionable business intelligence can modeling this data provide?\n",
    "- The CEO wants to know what actions can we take to increase revenue?"
   ]
  },
  {
   "cell_type": "markdown",
   "metadata": {},
   "source": [
    "## Acquire\n",
    "Data can come from a wide variety of sources:\n",
    "- Databases\n",
    "- Text files\n",
    "- Spreadsheets\n",
    "- Webpages\n",
    "- Event streams from users (what users click on in a webpage, game, or application interface)\n",
    "- Etc...\n",
    "\n",
    "For this exeercise, we have with a CSV (spreadsheet of sales data)"
   ]
  },
  {
   "cell_type": "code",
   "execution_count": null,
   "metadata": {},
   "outputs": [],
   "source": [
    "# Acquire Step (Our data sources may be in multiple places, in multiple databases, etc...)\n",
    "# Our data here is straightforward\n",
    "df = pd.read_csv(\"raw_lemonade_data.csv\") # df is short for dataframe and dataframes are how we get all the data into one variable.\n",
    "print(df.head())\n",
    "print(df.tail())"
   ]
  },
  {
   "cell_type": "markdown",
   "metadata": {},
   "source": [
    "## Prepare (Data Wrangling/Cleaning stage)\n",
    "- Identify and handle data integrity issues\n",
    "- Look for missing values~\n",
    "- Set data types for columns of data where the data type is not be clear\n",
    "- Strip away any \"noise\" from the signal in your data.\n",
    "- Example: Convert prices from dollar amounts to numeric amoun"
   ]
  },
  {
   "cell_type": "code",
   "execution_count": null,
   "metadata": {},
   "outputs": [],
   "source": [
    "# Ensure that the Date column is a proper date data-type instead of a string or a number\n",
    "df[\"Date\"] = pd.to_datetime(df[\"Date\"])"
   ]
  },
  {
   "cell_type": "code",
   "execution_count": null,
   "metadata": {},
   "outputs": [],
   "source": [
    "# Let's calculate revenue as price times sales\n",
    "df[\"Revenue\"] = df[\"Price\"] * df[\"Sales\"]\n",
    "df.head()"
   ]
  },
  {
   "cell_type": "code",
   "execution_count": null,
   "metadata": {},
   "outputs": [],
   "source": [
    "# Looks like we need to clean the data for the price column.. Real data can get pretty messy. This is only a preview!\n",
    "df[\"Price\"] = df.Price.str.replace(\"$\", \"\").replace(\" \", \"\") # Remove all of the dollar signs and a hidden extra space in the price column\n",
    "df.Price = df.Price.astype(np.float64)\n",
    "\n",
    "df.Revenue = df.Price * df.Sales "
   ]
  },
  {
   "cell_type": "code",
   "execution_count": null,
   "metadata": {},
   "outputs": [],
   "source": [
    "df = df.set_index(df['Date']) \n",
    "df = df.drop(\"Date\", 1) # drop the old Date column\n",
    "df.head()"
   ]
  },
  {
   "cell_type": "markdown",
   "metadata": {},
   "source": [
    "## Explore\n",
    "- Define the target variable\n",
    "- Identify statistical relationship of other values to the target variable\n",
    "- Check for independence of the independent variables\n",
    "- Visualize and explore the stories that the data holds"
   ]
  },
  {
   "cell_type": "code",
   "execution_count": null,
   "metadata": {},
   "outputs": [],
   "source": [
    "# Let's start exploring by visualizing the data!\n",
    "sales_over_time = df.Revenue.plot()\n",
    "sales_over_time.set(xlabel='Day', ylabel='Dollars in Revenue', title='Revenue over a year') "
   ]
  },
  {
   "cell_type": "code",
   "execution_count": null,
   "metadata": {},
   "outputs": [],
   "source": [
    "sns.relplot(x='Rainfall', y='Revenue', col='Price', data=df) # There's not a linear relationship, but the curve is clear. More rain and less revenue tend to move together (correlation not causation)"
   ]
  },
  {
   "cell_type": "code",
   "execution_count": null,
   "metadata": {},
   "outputs": [],
   "source": [
    "# Explore how Temperature relates to Revenue\n",
    "sns.relplot(x='Temperature', y='Revenue', data=df) "
   ]
  },
  {
   "cell_type": "code",
   "execution_count": null,
   "metadata": {},
   "outputs": [],
   "source": [
    "sns.relplot(x='Flyers', y='Revenue', data=df)"
   ]
  },
  {
   "cell_type": "code",
   "execution_count": null,
   "metadata": {},
   "outputs": [],
   "source": [
    "with sns.axes_style('white'):\n",
    "    j = sns.jointplot(\"Temperature\", \"Revenue\", data=df, kind='reg', height=5);\n",
    "    j.annotate(stats.pearsonr)\n",
    "plt.show()"
   ]
  },
  {
   "cell_type": "code",
   "execution_count": null,
   "metadata": {},
   "outputs": [],
   "source": [
    "with sns.axes_style('white'):\n",
    "    j = sns.jointplot(\"Flyers\", \"Revenue\", data=df, kind='reg', height=5);\n",
    "    j.annotate(stats.pearsonr)\n",
    "plt.show()"
   ]
  },
  {
   "cell_type": "code",
   "execution_count": null,
   "metadata": {},
   "outputs": [],
   "source": [
    "with sns.axes_style('white'):\n",
    "    j = sns.jointplot(\"Rainfall\", \"Revenue\", data=df, kind='reg', height=5);\n",
    "    j.annotate(stats.pearsonr)\n",
    "plt.show()"
   ]
  },
  {
   "cell_type": "code",
   "execution_count": null,
   "metadata": {},
   "outputs": [],
   "source": [
    "sns.heatmap(df.corr(), cmap='Blues', annot=True)"
   ]
  },
  {
   "cell_type": "markdown",
   "metadata": {},
   "source": [
    "## Feature engineering\n",
    "- The target variable called the \"dependent variable\" here is that revenue number. That's our focus!\n",
    "- Since \"sales units\" is 100% correlated and \n",
    "- We'll drop the price column because it doesn't vary across the data at all"
   ]
  },
  {
   "cell_type": "code",
   "execution_count": null,
   "metadata": {},
   "outputs": [],
   "source": [
    "df = df.drop(columns=[\"Price\", \"Sales\"])"
   ]
  },
  {
   "cell_type": "markdown",
   "metadata": {},
   "source": [
    "### Let's visualize the data to look at correlations"
   ]
  },
  {
   "cell_type": "code",
   "execution_count": null,
   "metadata": {},
   "outputs": [],
   "source": [
    "sns.pairplot(df)"
   ]
  },
  {
   "cell_type": "markdown",
   "metadata": {},
   "source": [
    "### What are the correlation coefficients between each variable?\n",
    "- Numerically, how tightly does each variable move with each other variable? "
   ]
  },
  {
   "cell_type": "code",
   "execution_count": null,
   "metadata": {},
   "outputs": [],
   "source": [
    "sns.heatmap(df.corr(), cmap='Blues', annot=True)"
   ]
  },
  {
   "cell_type": "markdown",
   "metadata": {},
   "source": [
    "## So... What's the punchline?\n",
    "- We're going to need to create a model for Temperature, Rainfall, and Flyers to see how they each contribute to Revenue\n",
    "- Remember, the CEO doesn't want graphs and numbers, she wants a clear answer to \"What do we need to do to increase revenue?\"\n",
    "- We see very clear correlation between temperature and revenue, raitnfall and revenue, and flyers and revenue, but we need to model to learn more\n",
    "- Let's move onto the next stage with an [intro to linear modeling exercise](https://www.kaggle.com/ryanorsinger/intro-to-linear-modeling-exercise)"
   ]
  },
  {
   "cell_type": "code",
   "execution_count": null,
   "metadata": {},
   "outputs": [],
   "source": []
  },
  {
   "cell_type": "code",
   "execution_count": null,
   "metadata": {},
   "outputs": [],
   "source": []
  }
 ],
 "metadata": {
  "kernelspec": {
   "display_name": "Python 3",
   "language": "python",
   "name": "python3"
  },
  "language_info": {
   "codemirror_mode": {
    "name": "ipython",
    "version": 3
   },
   "file_extension": ".py",
   "mimetype": "text/x-python",
   "name": "python",
   "nbconvert_exporter": "python",
   "pygments_lexer": "ipython3",
   "version": "3.7.3"
  }
 },
 "nbformat": 4,
 "nbformat_minor": 1
}
