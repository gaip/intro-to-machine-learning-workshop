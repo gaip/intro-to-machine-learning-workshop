{
 "cells": [
  {
   "cell_type": "markdown",
   "metadata": {},
   "source": [
    "# Let's Make Linear Models!"
   ]
  },
  {
   "cell_type": "markdown",
   "metadata": {},
   "source": [
    "## Predicting Continuous Outcomes\n",
    "\n",
    "![Linear Regression constellation XKCD cartoon](https://imgs.xkcd.com/comics/linear_regression.png)"
   ]
  },
  {
   "cell_type": "code",
   "execution_count": 1,
   "metadata": {
    "_cell_guid": "b1076dfc-b9ad-4769-8c92-a6c4dae69d19",
    "_uuid": "8f2839f25d086af736a60e9eeb907d3b93b6e0e5"
   },
   "outputs": [],
   "source": [
    "# ignore warnings\n",
    "import warnings\n",
    "warnings.filterwarnings(\"ignore\")\n",
    "\n",
    "# Wrangling\n",
    "import numpy as np\n",
    "import pandas as pd\n",
    "\n",
    "# Exploring\n",
    "import scipy.stats as stats\n",
    "\n",
    "# Visualizing\n",
    "%matplotlib inline\n",
    "import matplotlib.pyplot as plt\n",
    "import seaborn as sns\n",
    "plt.style.use('classic')\n",
    "\n",
    "# Modeling\n",
    "import statsmodels.api as sm\n",
    "\n",
    "from scipy.stats import pearsonr\n",
    "\n",
    "from sklearn.model_selection import train_test_split\n",
    "from sklearn.linear_model import LinearRegression\n",
    "from sklearn.metrics import mean_squared_error, r2_score, mean_absolute_error, median_absolute_error"
   ]
  },
  {
   "cell_type": "code",
   "execution_count": 2,
   "metadata": {
    "_cell_guid": "79c7e3d0-c299-4dcb-8224-4455121ee9b0",
    "_uuid": "d629ff2d2480ee46fbb7e2d37f6b5fab8052498a"
   },
   "outputs": [],
   "source": [
    "# Acquire\n",
    "df = pd.read_csv(\"../input/raw_lemonade_data.csv\")"
   ]
  },
  {
   "cell_type": "code",
   "execution_count": 3,
   "metadata": {},
   "outputs": [
    {
     "data": {
      "text/html": [
       "<div>\n",
       "<style scoped>\n",
       "    .dataframe tbody tr th:only-of-type {\n",
       "        vertical-align: middle;\n",
       "    }\n",
       "\n",
       "    .dataframe tbody tr th {\n",
       "        vertical-align: top;\n",
       "    }\n",
       "\n",
       "    .dataframe thead th {\n",
       "        text-align: right;\n",
       "    }\n",
       "</style>\n",
       "<table border=\"1\" class=\"dataframe\">\n",
       "  <thead>\n",
       "    <tr style=\"text-align: right;\">\n",
       "      <th></th>\n",
       "      <th>Revenue</th>\n",
       "      <th>Temperature</th>\n",
       "      <th>Rainfall</th>\n",
       "      <th>Flyers</th>\n",
       "    </tr>\n",
       "    <tr>\n",
       "      <th>Date</th>\n",
       "      <th></th>\n",
       "      <th></th>\n",
       "      <th></th>\n",
       "      <th></th>\n",
       "    </tr>\n",
       "  </thead>\n",
       "  <tbody>\n",
       "    <tr>\n",
       "      <th>2017-01-01</th>\n",
       "      <td>5.0</td>\n",
       "      <td>27.0</td>\n",
       "      <td>2.00</td>\n",
       "      <td>15</td>\n",
       "    </tr>\n",
       "    <tr>\n",
       "      <th>2017-01-02</th>\n",
       "      <td>6.5</td>\n",
       "      <td>28.9</td>\n",
       "      <td>1.33</td>\n",
       "      <td>15</td>\n",
       "    </tr>\n",
       "    <tr>\n",
       "      <th>2017-01-03</th>\n",
       "      <td>7.5</td>\n",
       "      <td>34.5</td>\n",
       "      <td>1.33</td>\n",
       "      <td>27</td>\n",
       "    </tr>\n",
       "    <tr>\n",
       "      <th>2017-01-04</th>\n",
       "      <td>8.5</td>\n",
       "      <td>44.1</td>\n",
       "      <td>1.05</td>\n",
       "      <td>28</td>\n",
       "    </tr>\n",
       "    <tr>\n",
       "      <th>2017-01-05</th>\n",
       "      <td>9.0</td>\n",
       "      <td>42.4</td>\n",
       "      <td>1.00</td>\n",
       "      <td>33</td>\n",
       "    </tr>\n",
       "  </tbody>\n",
       "</table>\n",
       "</div>"
      ],
      "text/plain": [
       "            Revenue  Temperature  Rainfall  Flyers\n",
       "Date                                              \n",
       "2017-01-01      5.0         27.0      2.00      15\n",
       "2017-01-02      6.5         28.9      1.33      15\n",
       "2017-01-03      7.5         34.5      1.33      27\n",
       "2017-01-04      8.5         44.1      1.05      28\n",
       "2017-01-05      9.0         42.4      1.00      33"
      ]
     },
     "execution_count": 3,
     "metadata": {},
     "output_type": "execute_result"
    }
   ],
   "source": [
    "# Prepare\n",
    "df[\"Date\"] = pd.to_datetime(df[\"Date\"]) # setup the right data-type for the date column\n",
    "df[\"Price\"] = df.Price.str.replace(\"$\", \"\").replace(\" \", \"\") # remove \n",
    "df[\"Price\"] = df.Price.astype(np.float64) # setup appropriate numeric datatype for price column\n",
    "df = df.set_index(df['Date']) # Set the date as the index \n",
    "df = df.drop(\"Date\", 1) # drop the old Date column\n",
    "df[\"Revenue\"] = df.Price * df.Sales # Calculate revenue from sales(units) times price.\n",
    "\n",
    "df = df[[\"Revenue\", \"Temperature\", \"Rainfall\", \"Flyers\"]] # Only focus on the (dependent) target variable and the independent variables that make sense to model\n",
    "df.head()"
   ]
  },
  {
   "cell_type": "markdown",
   "metadata": {},
   "source": [
    "# Part I - Modeling revenue through number of flyers\n",
    "- We'll make a linear model to model the relationship between number of fliers and revenue"
   ]
  },
  {
   "cell_type": "markdown",
   "metadata": {},
   "source": [
    "## Separate the target variable and the independent variables\n",
    "- Linear models work like y = mx + b, so **y** is what we're trying to model and the slope and intercept are weights for the model\n",
    "- Revenue = function(flyers) + offset\n",
    "- The \"offset\" here is the revenue number at the minimum amount of flyers"
   ]
  },
  {
   "cell_type": "code",
   "execution_count": 4,
   "metadata": {},
   "outputs": [],
   "source": [
    "X = df[[\"Flyers\"]] # Independent variable we're using to predict the target\n",
    "y = df[[\"Revenue\"]] # Dependend variable (target variable) "
   ]
  },
  {
   "cell_type": "code",
   "execution_count": 5,
   "metadata": {},
   "outputs": [],
   "source": [
    "# Create the linear model\n",
    "lm = LinearRegression().fit(X, y) # \"to fit\" a line means to match the line as close as possible to the datapoints on the X and Y axes."
   ]
  },
  {
   "cell_type": "code",
   "execution_count": 6,
   "metadata": {},
   "outputs": [
    {
     "name": "stdout",
     "output_type": "stream",
     "text": [
      "Intercept: 4.178019011641492\n",
      "We'll sell about $4.18 in revenue at the minimum level of flyers\n"
     ]
    }
   ],
   "source": [
    "print(\"Intercept:\", lm.intercept_[0])\n",
    "print(\"We'll sell about $4.18 in revenue at the minimum level of flyers\")"
   ]
  },
  {
   "cell_type": "code",
   "execution_count": 7,
   "metadata": {},
   "outputs": [
    {
     "name": "stdout",
     "output_type": "stream",
     "text": [
      "Coefficient for flyers: 0.21059052371809406\n",
      "Linear model coefficients are the weights of the model\n",
      "This is the slope of the regression prediction line that best fits the datapoints!\n"
     ]
    }
   ],
   "source": [
    "print(\"Coefficient for flyers:\", lm.coef_[0][0])\n",
    "print(\"Linear model coefficients are the weights of the model\")\n",
    "print(\"This is the slope of the regression prediction line that best fits the datapoints!\")"
   ]
  },
  {
   "cell_type": "code",
   "execution_count": 8,
   "metadata": {},
   "outputs": [
    {
     "data": {
      "text/plain": [
       "4.761904761904762"
      ]
     },
     "execution_count": 8,
     "metadata": {},
     "output_type": "execute_result"
    }
   ],
   "source": [
    "1/ .21"
   ]
  },
  {
   "cell_type": "markdown",
   "metadata": {},
   "source": [
    "## What does this mean?\n",
    "#### This single variable regression model predicts that each additional flyer delivers $0.21 in sales"
   ]
  },
  {
   "cell_type": "markdown",
   "metadata": {},
   "source": [
    "## R squared value\n",
    "- R2 value * 100 = Percent of variance in y explained by x\n",
    "- The variance of revenue as explained by number of flyers"
   ]
  },
  {
   "cell_type": "code",
   "execution_count": 9,
   "metadata": {},
   "outputs": [
    {
     "name": "stdout",
     "output_type": "stream",
     "text": [
      "Variance of revenue as explained by the number of flyers: %64.8318980562741\n"
     ]
    }
   ],
   "source": [
    "y_predicted = lm.predict(X)\n",
    "\n",
    "flyer_r2 = r2_score(y, y_predicted)\n",
    "print(\"Variance of revenue as explained by the number of flyers: %\" + str(flyer_r2 * 100))"
   ]
  },
  {
   "cell_type": "code",
   "execution_count": 10,
   "metadata": {},
   "outputs": [
    {
     "name": "stdout",
     "output_type": "stream",
     "text": [
      "Average vertical distance between predicted and actual revenue is $1.6798019320916893\n"
     ]
    }
   ],
   "source": [
    "# Mean absolute error is the average vertical distance between the actual and expected values from this model\n",
    "mae = mean_absolute_error(y, y_predicted)\n",
    "print(\"Average vertical distance between predicted and actual revenue is $\" + str(mae))"
   ]
  },
  {
   "cell_type": "markdown",
   "metadata": {},
   "source": [
    "# Part II - Modeling revenue through rainfall"
   ]
  },
  {
   "cell_type": "code",
   "execution_count": 11,
   "metadata": {},
   "outputs": [],
   "source": [
    "X = df[[\"Rainfall\"]] # Independent variable we're using to predict the target\n",
    "y = df[[\"Revenue\"]] # Dependend variable (target variable) "
   ]
  },
  {
   "cell_type": "code",
   "execution_count": 12,
   "metadata": {},
   "outputs": [],
   "source": [
    "# Create the linear model\n",
    "lm = LinearRegression().fit(X, y) # \"to fit\" a line means to match the line as close as possible to the datapoints on the X and Y axes."
   ]
  },
  {
   "cell_type": "code",
   "execution_count": 13,
   "metadata": {},
   "outputs": [
    {
     "name": "stdout",
     "output_type": "stream",
     "text": [
      "Intercept: 22.14459354972579\n",
      "We'll sell about $22 in revenue at the lowest level of rainfall in the time period given\n",
      "This dataset is from England, so there's no day with 0 rainfall!\n"
     ]
    }
   ],
   "source": [
    "print(\"Intercept:\", lm.intercept_[0])\n",
    "print(\"We'll sell about $22 in revenue at the lowest level of rainfall in the time period given\")\n",
    "print(\"This dataset is from England, so there's no day with 0 rainfall!\")"
   ]
  },
  {
   "cell_type": "code",
   "execution_count": 14,
   "metadata": {},
   "outputs": [
    {
     "name": "stdout",
     "output_type": "stream",
     "text": [
      "Coefficient for rainfall: -11.472197294255787\n"
     ]
    }
   ],
   "source": [
    "# Remember, the coefficient is the slope of the linear model\n",
    "print(\"Coefficient for rainfall:\", lm.coef_[0][0])"
   ]
  },
  {
   "cell_type": "markdown",
   "metadata": {},
   "source": [
    "## Interpreting the results of the linear model of rainfall and revenue\n",
    "- Punchline: for every inch of rainfall a day, we lose about $11 in revenue for that day. (through the lense of this one model)"
   ]
  },
  {
   "cell_type": "markdown",
   "metadata": {},
   "source": [
    "## R2 values (if rainfall was our only variable to consider)"
   ]
  },
  {
   "cell_type": "code",
   "execution_count": 15,
   "metadata": {},
   "outputs": [
    {
     "name": "stdout",
     "output_type": "stream",
     "text": [
      "Variance of revenue as explained by the number of rainfall: %82.66699748886435\n"
     ]
    }
   ],
   "source": [
    "y_predicted = lm.predict(X)\n",
    "\n",
    "r2 = r2_score(y, y_predicted)\n",
    "print(\"Variance of revenue as explained by the number of rainfall: %\" + str(r2 * 100))"
   ]
  },
  {
   "cell_type": "code",
   "execution_count": 16,
   "metadata": {},
   "outputs": [
    {
     "name": "stdout",
     "output_type": "stream",
     "text": [
      "Average vertical distance between actual and predicted revenue values is: 1.0530270030446924\n"
     ]
    }
   ],
   "source": [
    "# Mean absolute error is the average vertical distance between the actual and expected values from this model\n",
    "mae = mean_absolute_error(y, y_predicted)\n",
    "print(\"Average vertical distance between actual and predicted revenue values is:\", mae)"
   ]
  },
  {
   "cell_type": "markdown",
   "metadata": {},
   "source": [
    "## Conclusions from the rainfall model vs the flyer model:\n",
    "- Less absolute error means the predictions are closer to actual values when fed historical data\n",
    "- The R2 value of the rainfall model means that more of the variance in revenue is explained by rainfall than flyers \n",
    "- Business takeaway so far... If we could reduce rainfall by 1 inch for less cost than 1 flyer, then we're in the chips!"
   ]
  },
  {
   "cell_type": "markdown",
   "metadata": {},
   "source": [
    "# Part III - Use temperature to model revenue (Your turn!)\n",
    "## For this exercise, use the above examples and create a single variable regression for the Temperature variable"
   ]
  },
  {
   "cell_type": "code",
   "execution_count": 17,
   "metadata": {},
   "outputs": [],
   "source": [
    "# Use the above two examples as a template for creating your single variable linear regression between temperature and revenue"
   ]
  }
 ],
 "metadata": {
  "kernelspec": {
   "display_name": "Python 3",
   "language": "python",
   "name": "python3"
  },
  "language_info": {
   "codemirror_mode": {
    "name": "ipython",
    "version": 3
   },
   "file_extension": ".py",
   "mimetype": "text/x-python",
   "name": "python",
   "nbconvert_exporter": "python",
   "pygments_lexer": "ipython3",
   "version": "3.6.6"
  }
 },
 "nbformat": 4,
 "nbformat_minor": 1
}
